{
 "cells": [
  {
   "cell_type": "markdown",
   "metadata": {},
   "source": [
    "# TP Intelligence Bio-Inspiré - Réseaux de neurones (Exo 1)\n",
    "\n",
    "## M2 IA Lyon 1 - Alexis Pister et Raphael Teitgen\n",
    "\n",
    "L’objectif de ce TP est d’implémenter un réseau de neurone pour résoudre le problème de classification du jeu de données MNIST constitué d'images représentant des chiffres de 0 à 9. Le but est d'entrainer le modèle avec un jeu d'apprentissage puis de le tester avec un jeu de test, afin de déterminer le chiffre representé par l'image sans avoir accès au label. Nous allons commencé par implémenter un modèle simple que nous allons améliorer jusqu'à créer un perceptron multi-couches."
   ]
  },
  {
   "cell_type": "code",
   "execution_count": 78,
   "metadata": {},
   "outputs": [
    {
     "data": {
      "image/png": "[encoded data removed]",
      "text/plain": [
       "<Figure size 432x288 with 1 Axes>"
      ]
     },
     "metadata": {},
     "output_type": "display_data"
    },
    {
     "data": {
      "image/png": "[encoded data removed]",
      "text/plain": [
       "<Figure size 432x288 with 1 Axes>"
      ]
     },
     "metadata": {},
     "output_type": "display_data"
    },
    {
     "data": {
      "image/png": "[encoded data removed]",
      "text/plain": [
       "<Figure size 432x288 with 1 Axes>"
      ]
     },
     "metadata": {},
     "output_type": "display_data"
    },
    {
     "data": {
      "image/png": "[encoded data removed]",
      "text/plain": [
       "<Figure size 432x288 with 1 Axes>"
      ]
     },
     "metadata": {},
     "output_type": "display_data"
    }
   ],
   "source": [
    "# Imports et code pour decompresser les donnees \n",
    "# (ecrit par Mathieu Lefort)\n",
    "import gzip # pour décompresser les données\n",
    "import pickle # pour désérialiser les données\n",
    "import numpy # pour pouvoir utiliser des matrices\n",
    "import matplotlib.pyplot as plt # pour l'affichage\n",
    "import torch,torch.utils.data\n",
    "\n",
    "\n",
    "# fonction qui va afficher l'image située à l'index index\n",
    "def affichage(image,label):\n",
    "    # on récupère à quel chiffre cela correspond (position du 1 dans label)\n",
    "    label = numpy.argmax(label)\n",
    "    # on crée une figure\n",
    "    plt.figure()\n",
    "    # affichage du chiffre\n",
    "    # le paramètre interpolation='nearest' force python à afficher chaque valeur de la matrice sans l'interpoler avec ses voisines\n",
    "    # le paramètre cmap définit l'échelle de couleur utilisée (ici noire et blanc)\n",
    "    plt.imshow(image,interpolation='nearest',cmap='binary')\n",
    "    # on met un titre\n",
    "    plt.title('chiffre '+str(label))\n",
    "    # on affichage les figures créées\n",
    "    plt.show()\n",
    "    \n",
    "\n",
    "# nombre d'image lues à chaque fois dans la base d'apprentissage (laisser à 1 sauf pour la question optionnelle sur les minibatchs)\n",
    "TRAIN_BATCH_SIZE = 1\n",
    "# on charge les données de la base MNIST\n",
    "data = pickle.load(gzip.open('mnist_light_CN.pkl.gz'),encoding='latin1')\n",
    "# images de la base d'apprentissage\n",
    "train_data = torch.Tensor(data[0][0])\n",
    "# labels de la base d'apprentissage\n",
    "train_data_label = torch.Tensor(data[0][1])\n",
    "# images de la base de test\n",
    "test_data = torch.Tensor(data[1][0])\n",
    "# labels de la base de test\n",
    "test_data_label = torch.Tensor(data[1][1])\n",
    "# on crée la base de données d'apprentissage (pour torch)\n",
    "train_dataset = torch.utils.data.TensorDataset(train_data,train_data_label)\n",
    "# on crée la base de données de test (pour torch)\n",
    "test_dataset = torch.utils.data.TensorDataset(test_data,test_data_label)\n",
    "# on crée le lecteur de la base de données d'apprentissage (pour torch)\n",
    "train_loader = torch.utils.data.DataLoader(train_dataset, batch_size=TRAIN_BATCH_SIZE, shuffle=True)\n",
    "# on crée le lecteur de la base de données de test (pour torch)\n",
    "test_loader = torch.utils.data.DataLoader(test_dataset, batch_size=1, shuffle=False)\n",
    "\n",
    "\n",
    "# Affichages\n",
    "# 10 fois\n",
    "# for i in range(0,10):\n",
    "#     # on demande les prochaines données de la base\n",
    "#     (_,(image,label)) = enumerate(train_loader).next()\n",
    "#     # on les affiche\n",
    "#     affichage(image[0,:].numpy(),label[0,:].numpy())\n",
    "\n",
    "\n",
    "# NB pour lire (plus proprement) toute la base (ce que vous devrez faire dans le TP) plutôt utiliser la formulation suivante\n",
    "# Affichage de 4 images\n",
    "i = 0\n",
    "for image,label in train_loader:\n",
    "    if i < 4:\n",
    "        affichage(image[0,:].numpy(),label[0,:].numpy())\n",
    "        i += 1\n"
   ]
  },
  {
   "cell_type": "markdown",
   "metadata": {},
   "source": [
    "## Partie 1 : Le perceptron\n",
    "\n",
    "Nous allons commencer par coder l'algorithme du Perceptron. Le jeu de données ayant 10 labels, le model comprendra donc une couche de sortie de 10 neurones (chaque neurone correspond à un label). Chaque neurone sera connecté aux 784 entrées correspondant aux pixels de l'image par une matrice de poids."
   ]
  },
  {
   "cell_type": "code",
   "execution_count": 79,
   "metadata": {},
   "outputs": [
    {
     "name": "stdout",
     "output_type": "stream",
     "text": [
      "CPU times: user 2min 6s, sys: 3.77 s, total: 2min 10s\n",
      "Wall time: 1min 11s\n"
     ]
    }
   ],
   "source": [
    "%%time\n",
    "#Parametres\n",
    "N_entree = 785\n",
    "N_neurones = 10\n",
    "eta = 0.001\n",
    "N_apprentissage = 300 #Nb d'image utilisées pour l'apprentissage\n",
    "\n",
    "\n",
    "#Matrice des poids, lignes (i) : neurones, colonnes (j) : entrees\n",
    "#On initialise tous les poids à 0.01\n",
    "W = torch.ones(10, 785, dtype=torch.double) * 0.01\n",
    "W[:, 0] = 0.01 #Biais\n",
    "\n",
    "# Entrainement\n",
    "for i, (image, label) in enumerate(train_loader):\n",
    "    if i < N_apprentissage:\n",
    "        #print(i)\n",
    "        #Tensor representant l'image d'entree\n",
    "        entree = image\n",
    "        #On 'aplatit' le tableau\n",
    "        entree = entree.flatten()\n",
    "        #On ajoute le biais au debut de l'entree\n",
    "        entree = torch.tensor([torch.tensor(1.0, dtype = torch.double)] + list(entree)) \n",
    "        \n",
    "        #Calcul de la sortie des neurones\n",
    "        Y = torch.mv(W, entree)        \n",
    "        \n",
    "        #Erreur\n",
    "        Err = label.flatten().double() - Y\n",
    "        #print(Err[i])\n",
    "        \n",
    "        #Mise a jour des poids\n",
    "        for i in range(len(W)):\n",
    "            for j in range(len(W[0])):\n",
    "                W[i,j] = W[i,j] + eta * entree[j] * Err[i]\n",
    "                \n",
    "        #print(Y)\n",
    "        "
   ]
  },
  {
   "cell_type": "code",
   "execution_count": null,
   "metadata": {},
   "outputs": [],
   "source": []
  },
  {
   "cell_type": "code",
   "execution_count": 80,
   "metadata": {},
   "outputs": [
    {
     "name": "stdout",
     "output_type": "stream",
     "text": [
      "La fréquence de bonne classification est de :  0.7128571428571429\n"
     ]
    }
   ],
   "source": [
    "# On utilise notre reseau sur le jeu de test\n",
    "\n",
    "#Nb d'images et compteur de positifs\n",
    "Nb_positif = 0\n",
    "Nb_images = len(test_loader.batch_sampler)\n",
    "\n",
    "# Test\n",
    "for i, (image, label) in enumerate(test_loader):\n",
    "    #print(i)\n",
    "    entree = image\n",
    "    entree = entree.flatten()\n",
    "    #On ajoute le biais au debut de l'entree\n",
    "    entree = torch.tensor([torch.tensor(1.0, dtype = torch.double)] + list(entree)) \n",
    "    \n",
    "    #Calcul de la sortie des neurones\n",
    "    Y = torch.mv(W, entree)\n",
    "    #print(Y)\n",
    "    #print(label)\n",
    "    \n",
    "    result_label = np.argmax(Y, axis=0)\n",
    "    true_label = np.argmax(label.flatten(), axis=0)\n",
    "    \n",
    "    if result_label == true_label:\n",
    "        Nb_positif += 1\n",
    "        \n",
    "        \n",
    "print(\"La fréquence de bonne classification est de : \", Nb_positif / Nb_images)"
   ]
  },
  {
   "cell_type": "markdown",
   "metadata": {},
   "source": [
    "Avec une valeur de $\\eta$ de 0.001, une initialisation des poids uniforme à 0.01 et pour un jeu d'apprentissage comprenant 300 images nous obtenons un résultats d'environ 70% ce qui est plutot bon (75% obtenu au mieux sur quelques essais). Ajouter plus d'images semblent être inutiles : nous avons essayé avec 500 images mais cela n'améliore pas la classification (73% de bon résultat pour un essai).\n",
    "\n",
    "Nous avons remarqué que prendre un $\\eta$ trop grand faisait vite exploser les valeurs des poids et des sorties des neurones. Avec un $\\eta$ de 0.01 les valeurs explosait ayant pour conséquence un scrore moins bon d'environ 50%. Avec un pas d'apprentissage trop grand, il semble donc que le modèle n'arrive pas bien à converger vers un bon minimum local et diverge sur des valeurs des paramètres de plus en plus grands.\n",
    "\n",
    "Nous avons ensuite fait varier l'initialisation des poids à 0.1 puis 1 mais cela ne semble pas affecter le résultat. Cela est logique : Ce sont plus leurs valeurs relatives qui influencent le modèle que leurs valeurs propres."
   ]
  },
  {
   "cell_type": "code",
   "execution_count": 160,
   "metadata": {},
   "outputs": [
    {
     "name": "stdout",
     "output_type": "stream",
     "text": [
      "[785, 101, 31, 10]\n",
      "0.11\n"
     ]
    }
   ],
   "source": [
    "# Partie 3 : Deep network\n",
    "\n",
    "#PB DU BIAIS : il ne doit pas etre autant connecté que les autres neurones\n",
    "class Deep_network:\n",
    "    def __init__(self, train_loader, test_loader, nbCouches, nbLabels, taille_entree, tailles_couches):\n",
    "        self.train_loader = train_loader\n",
    "        self.test_loader = test_loader\n",
    "        self.nbCouches = nbCouches\n",
    "        self.nbLabels = nbLabels\n",
    "        self.taille_entree = taille_entree #Taille de l'entree\n",
    "        \n",
    "        #Liste contenant les tailles de chaque couches\n",
    "        #(on rajoute un element a chaque couche sauf la derniere pour les biais)\n",
    "        self.tailles_couches = [self.taille_entree] + tailles_couches\n",
    "        for i in range(len(self.tailles_couches)-1):\n",
    "            self.tailles_couches[i] += 1\n",
    "        \n",
    "        print(self.tailles_couches)\n",
    "        \n",
    "        #liste ou chaque element correspond à une matrice des poids d'une couche\n",
    "        self.W = []\n",
    "        for i in range(len(self.tailles_couches[:-1])):\n",
    "            # Matrice des poids entre les couches i et i+1\n",
    "            w = torch.ones(self.tailles_couches[i+1], self.tailles_couches[i],\n",
    "                           dtype=torch.double) * 0.01\n",
    "            #On rajoute les biais\n",
    "            w[:, 0] = 0.01\n",
    "            w.requires_grad_(True)\n",
    "            self.W.append(w)\n",
    "        \n",
    "            \n",
    "    # Train the model from train_set\n",
    "    def training(self, eta = 0.001, nbImages = 200):\n",
    "        for i, (image, label) in enumerate(self.train_loader):\n",
    "            if i < nbImages:\n",
    "                #print(i)\n",
    "                #Tensor representant l'image d'entree\n",
    "                entree = image\n",
    "                #On 'aplatit' le tableau\n",
    "                entree = entree.flatten()\n",
    "                #On ajoute le biais au debut de l'entree\n",
    "                entree = torch.tensor([torch.tensor(1.0, dtype = torch.double)] + list(entree))\n",
    "                \n",
    "                #Liste ou chaque element correspond à un tensor contenant les sorties de chaque couche\n",
    "                Y = [entree]\n",
    "\n",
    "                #Calcul de la sortie des neurones\n",
    "                for i, W in enumerate(self.W):\n",
    "                    if i == len(self.W) - 1:\n",
    "                        # Pour calculer la couche de sortie (fonction lineaire)\n",
    "                        y = torch.mv(W, Y[i])\n",
    "                    else:\n",
    "                        # Pour calculer les autres couches (fonction sigmoide)\n",
    "                        y = (1 / (1 + torch.exp(-torch.mv(W, Y[i]))))\n",
    "                        \n",
    "                    Y.append(y)\n",
    "                \n",
    "                #print(Y)\n",
    "                \n",
    "                \n",
    "                # Fonction de cout (sum square error)\n",
    "                Err = (label.flatten().double() - Y[-1]).pow(2).sum() * 0.5\n",
    "                # Back propagation of error\n",
    "                Err.backward()\n",
    "                \n",
    "                #Mise a jour des poids\n",
    "                for i in range(len(self.W)):\n",
    "                    with torch.no_grad():\n",
    "                        self.W[i] += eta * self.W[i].grad\n",
    "                        # On remet les gradients a 0\n",
    "                        self.W[i].grad.data.zero_()\n",
    "                        \n",
    "                #print(Y[-1])\n",
    "           \n",
    "    # Test the model with test set\n",
    "    def run(self):\n",
    "        Nb_positif = 0\n",
    "        Nb_images = len(test_loader.batch_sampler)\n",
    "        for i, (image, label) in enumerate(self.test_loader):\n",
    "            #print(i)\n",
    "            entree = image\n",
    "            entree = entree.flatten()\n",
    "            #On ajoute le biais au debut de l'entree\n",
    "            entree = torch.tensor([torch.tensor(1.0, dtype = torch.double)] + list(entree)) \n",
    "\n",
    "            #Calcul de la sortie des neurones\n",
    "            Y = [entree]\n",
    "            for i, W in enumerate(self.W):\n",
    "                if i == len(self.W) - 1:\n",
    "                    # Pour calculer la couche de sortie (fonction lineaire)\n",
    "                    y = torch.mv(W, Y[i])\n",
    "                else:\n",
    "                    # Pour calculer les autres couches (fonction sigmoide)\n",
    "                    y = (1 / (1 + torch.exp(-torch.mv(W, Y[i]))))\n",
    "\n",
    "                Y.append(y)\n",
    "            \n",
    "            result_label = np.argmax(Y[-1].detach(), axis=0)\n",
    "            true_label = np.argmax(label.flatten(), axis=0)\n",
    "\n",
    "            if result_label == true_label:\n",
    "                Nb_positif += 1\n",
    "                \n",
    "        #Renvoie le score    \n",
    "        return(Nb_positif / Nb_images)\n",
    "                    \n",
    "\n",
    "        \n",
    "        \n",
    "Dn = Deep_network(train_loader, test_loader, nbCouches = 3, nbLabels = 10,\n",
    "                  taille_entree = 784, tailles_couches = [100, 30, 10])\n",
    "\n",
    "# Training of the network\n",
    "Dn.training(nbImages = 400)\n",
    "print(Dn.run())\n",
    "\n"
   ]
  },
  {
   "cell_type": "code",
   "execution_count": null,
   "metadata": {},
   "outputs": [],
   "source": []
  },
  {
   "cell_type": "code",
   "execution_count": null,
   "metadata": {},
   "outputs": [],
   "source": [
    "#Q2 Shallow network (une couche cachée)\n",
    "\n",
    "#Matrice des poids, lignes (i) : neurones, colonnes (j) : entrees\n",
    "#W = torch.rand(10, 785)\n",
    "W = torch.ones(10, 785, dtype=torch.double) * 0.01\n",
    "W[:, 0] = 0.01 #Biais\n",
    "\n",
    "W = torch.ones(10, 10, dtype=torch.double) * 0.01\n",
    "\n",
    "# Entrainement\n",
    "for i, (image, label) in enumerate(train_loader):\n",
    "        print(i)\n",
    "        #Tensor representant l'image d'entree\n",
    "        entree = image\n",
    "        #On 'aplatit' le tableau\n",
    "        entree = entree.flatten()\n",
    "        #On ajoute le biais au debut de l'entree\n",
    "        entree = torch.tensor([torch.tensor(1.0, dtype = torch.double)] + list(entree)) \n",
    "        \n",
    "        #Calcul de la sortie de la couche cachée\n",
    "        Y = torch.mv(W, entree)\n",
    "        Y = 1 / (1 + exp(-Y))\n",
    "        \n",
    "        #Calcul de la sortie de la couche finale\n",
    "        Y2 = torch.mv(W2, Y)\n",
    "        \n",
    "        #Erreur de la couche de sortie\n",
    "        Err = abel.flatten().double() - Y\n",
    "        \n",
    "        #Erreur de la couche cachee\n",
    "        \n",
    "        \n",
    "        #Mise a jour des poids\n",
    "        for i in range(len(W)):\n",
    "            for j in range(len(W[0])):\n",
    "                W[i,j] = W[i,j] + eta * entree[j] * Err[i]\n",
    "                \n",
    "        print(Y)\n",
    "\n"
   ]
  },
  {
   "cell_type": "code",
   "execution_count": 129,
   "metadata": {},
   "outputs": [
    {
     "name": "stdout",
     "output_type": "stream",
     "text": [
      "tensor([[2., 2., 2.],\n",
      "        [2., 2., 2.]], requires_grad=True)\n",
      "tensor([[2., 2., 2.],\n",
      "        [2., 2., 2.]], requires_grad=True)\n",
      "tensor([[2., 2., 2.],\n",
      "        [2., 2., 2.]], requires_grad=True)\n",
      "tensor([[2., 2., 2.],\n",
      "        [2., 2., 2.]], requires_grad=True)\n",
      "tensor([[2., 2., 2.],\n",
      "        [2., 2., 2.]], requires_grad=True)\n",
      "tensor([[2., 2., 2.],\n",
      "        [2., 2., 2.]], requires_grad=True)\n"
     ]
    }
   ],
   "source": [
    "#TESTS\n",
    "W = []\n",
    "for i in range(3):\n",
    "    w = torch.ones(2, 3) * 2\n",
    "    w.requires_grad_(True)\n",
    "    print(w)\n",
    "    W.append(w)\n",
    "    \n",
    "for i in W:\n",
    "    print(i)\n"
   ]
  }
 ],
 "metadata": {
  "kernelspec": {
   "display_name": "Python 3",
   "language": "python",
   "name": "python3"
  },
  "language_info": {
   "codemirror_mode": {
    "name": "ipython",
    "version": 3
   },
   "file_extension": ".py",
   "mimetype": "text/x-python",
   "name": "python",
   "nbconvert_exporter": "python",
   "pygments_lexer": "ipython3",
   "version": "3.5.5"
  }
 },
 "nbformat": 4,
 "nbformat_minor": 2
}
